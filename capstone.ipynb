{
 "cells": [
  {
   "cell_type": "markdown",
   "metadata": {
    "collapsed": true
   },
   "source": [
    "# Battle of the Neighbourhoods"
   ]
  },
  {
   "cell_type": "markdown",
   "metadata": {},
   "source": [
    "### Business Problem"
   ]
  },
  {
   "cell_type": "markdown",
   "metadata": {},
   "source": [
    "This project will focus on where to open a new coffeeshop in London. Since this report is tailored for a new coffeeshop for a new entrepreneur, the report will attempt to focus on business districts that have not yet been overexposed in terms of available coffeeshops and specifically new up and coming business districts in the city of London. \n",
    "\n",
    "The research will first focus on where new businesses are setting up their offices under the assumption that unlike several large business locations such as Canary Wharf, the areas that will be considered in this report will not have many coffeeshops already open or there will still exist a market gap between demand and supply.\n",
    "\n",
    "New business districts will be exploted and the data science methodology learned throughout the course will be used to attempt to find the best possible district."
   ]
  },
  {
   "cell_type": "markdown",
   "metadata": {},
   "source": [
    "### Data"
   ]
  },
  {
   "cell_type": "markdown",
   "metadata": {},
   "source": [
    "The final decision will be based on a number of factors including:\n",
    "\n",
    "    *Number of nearby businesses\n",
    "    *Distance from major bus stops and underground\n",
    "    *Number of nearby coffeeshops\n",
    "    *Population\n",
    "\n",
    "The data sources to be used will be \n",
    "\n",
    "    * importing a csv file to display the london disricts and boroughs\n",
    "    * using google geocoding to retrieve the respective longitude and latitude coordinates\n",
    "    * foursquare to get all nearby coffeeshops\n",
    "\n"
   ]
  },
  {
   "cell_type": "code",
   "execution_count": null,
   "metadata": {},
   "outputs": [],
   "source": []
  }
 ],
 "metadata": {
  "kernelspec": {
   "display_name": "Python 3.5",
   "language": "python",
   "name": "python3"
  },
  "language_info": {
   "codemirror_mode": {
    "name": "ipython",
    "version": 3
   },
   "file_extension": ".py",
   "mimetype": "text/x-python",
   "name": "python",
   "nbconvert_exporter": "python",
   "pygments_lexer": "ipython3",
   "version": "3.5.5"
  }
 },
 "nbformat": 4,
 "nbformat_minor": 1
}
